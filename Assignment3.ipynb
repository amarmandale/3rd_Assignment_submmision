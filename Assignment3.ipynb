{
 "cells": [
  {
   "cell_type": "markdown",
   "id": "c29bd494-a3a4-4aff-9353-10ba239bf60c",
   "metadata": {},
   "source": [
    "Q1. Which keyword is used to create a function? Create a function to return a list of odd numbers in the\n",
    "range of 1 to 25."
   ]
  },
  {
   "cell_type": "code",
   "execution_count": 56,
   "id": "ff0e7ca0-985a-4a0a-8ad7-d54e78c8a9d6",
   "metadata": {},
   "outputs": [],
   "source": [
    "# def keyword is use to create fuction      "
   ]
  },
  {
   "cell_type": "code",
   "execution_count": 52,
   "id": "ad779ddc-033e-4e05-89ba-ee813ac2aa70",
   "metadata": {},
   "outputs": [],
   "source": [
    "q=list(range(1,26))"
   ]
  },
  {
   "cell_type": "code",
   "execution_count": 57,
   "id": "333f39af-2cd7-4681-b6b0-7110b3bad235",
   "metadata": {},
   "outputs": [],
   "source": [
    "def test(q):\n",
    "    l=[]\n",
    "    for i in q:\n",
    "        if i%2!=0:\n",
    "            l.append(i)\n",
    "    return l\n",
    "    "
   ]
  },
  {
   "cell_type": "code",
   "execution_count": 58,
   "id": "d34b37b7-4065-4499-9866-2249193db86f",
   "metadata": {},
   "outputs": [
    {
     "data": {
      "text/plain": [
       "[1, 3, 5, 7, 9, 11, 13, 15, 17, 19, 21, 23, 25]"
      ]
     },
     "execution_count": 58,
     "metadata": {},
     "output_type": "execute_result"
    }
   ],
   "source": [
    "test(q)"
   ]
  },
  {
   "cell_type": "markdown",
   "id": "8ba4c2d0-a594-46ec-8b2b-0e7a1d7f582a",
   "metadata": {},
   "source": [
    "Q2. Why *args and **kwargs is used in some functions? Create a function each for *args and **kwargs\n",
    "to demonstrate their use."
   ]
  },
  {
   "cell_type": "markdown",
   "id": "2ed45342-b953-43f0-87b9-19459f69b623",
   "metadata": {},
   "source": [
    " *args allows you to do is take in more arguments than the number of formal arguments that you previously defined\n",
    " With *args, any number of extra arguments can be tacked on to your current formal parameters (including zero extra arguments)."
   ]
  },
  {
   "cell_type": "code",
   "execution_count": 19,
   "id": "e3ea00f5-44c3-4074-8859-002ebb7a58f5",
   "metadata": {},
   "outputs": [],
   "source": [
    "def test(*args,a=2):\n",
    "    return args ,a\n",
    "    "
   ]
  },
  {
   "cell_type": "code",
   "execution_count": 20,
   "id": "04fd4563-277d-4881-a1d4-dcdf1232708a",
   "metadata": {},
   "outputs": [
    {
     "data": {
      "text/plain": [
       "tuple"
      ]
     },
     "execution_count": 20,
     "metadata": {},
     "output_type": "execute_result"
    }
   ],
   "source": [
    "type(test())"
   ]
  },
  {
   "cell_type": "code",
   "execution_count": 21,
   "id": "dd5481a0-7c9f-4375-9b8e-c6d61a37bf3f",
   "metadata": {},
   "outputs": [
    {
     "data": {
      "text/plain": [
       "((1, 2, 3, 4, 5, 'amqr'), 2)"
      ]
     },
     "execution_count": 21,
     "metadata": {},
     "output_type": "execute_result"
    }
   ],
   "source": [
    "test(1,2,3,4,5,'amqr')"
   ]
  },
  {
   "cell_type": "markdown",
   "id": "0d4a4890-298a-4dc7-9f67-3b87f961cc7e",
   "metadata": {},
   "source": [
    "  We use the name kwargs with the double star. The reason is that the double star allows us \n",
    " to pass through keyword arguments (and any number of them)\n",
    "  A keyword argument is where you provide a name to the variable as you pass it into the function.\n",
    " One can think of the kwargs as being a dictionary that maps each keyword to the value that we pass alongside it.\n",
    "  That is why when we iterate over the kwargs there doesn’t seem to be any order in which they were printed out."
   ]
  },
  {
   "cell_type": "code",
   "execution_count": 22,
   "id": "feb5b0f0-0ecc-44c4-8ac8-0b0e5377378f",
   "metadata": {},
   "outputs": [],
   "source": [
    "def test1(**ka):\n",
    "    return ka"
   ]
  },
  {
   "cell_type": "code",
   "execution_count": 23,
   "id": "666e5922-5cb0-41c9-a37d-19b4fde3aca9",
   "metadata": {},
   "outputs": [
    {
     "data": {
      "text/plain": [
       "dict"
      ]
     },
     "execution_count": 23,
     "metadata": {},
     "output_type": "execute_result"
    }
   ],
   "source": [
    "type(test1())"
   ]
  },
  {
   "cell_type": "code",
   "execution_count": 29,
   "id": "17507ef5-87e9-420f-aa44-391f868270a2",
   "metadata": {},
   "outputs": [
    {
     "data": {
      "text/plain": [
       "{'a': 'amar', 'b': [2, 'nayan'], 'c': 23, 'w': 'h'}"
      ]
     },
     "execution_count": 29,
     "metadata": {},
     "output_type": "execute_result"
    }
   ],
   "source": [
    "test1(a='amar',b=[2,'nayan'],c=23,w='h')"
   ]
  },
  {
   "cell_type": "markdown",
   "id": "bfa09407-9b55-4f27-9271-5930087f8379",
   "metadata": {},
   "source": [
    "Q3. What is an iterator in python? Name the method used to initialise the iterator object and the method\n",
    "used for iteration. Use these methods to print the first five elements of the given list [2, 4, 6, 8, 10, 12, 14,\n",
    "16, 18, 20]."
   ]
  },
  {
   "cell_type": "markdown",
   "id": "90527e00-1724-4065-a79b-c33eda2f8ec3",
   "metadata": {},
   "source": [
    "Iterator – An iterator is an object that implements the iterator protocol, which is the __next()__ That is,\n",
    "an iterator understands how to compute the next value whenever you ask for it.\n",
    "The function iter() can be used to build an iterator from an iterable.\n",
    "It is worth noting that every iterator is also an iterable."
   ]
  },
  {
   "cell_type": "markdown",
   "id": "05102861-d3fa-4881-8d05-4e3efce2b8e5",
   "metadata": {},
   "source": [
    "iter() method is  used to initialise the iterator object"
   ]
  },
  {
   "cell_type": "code",
   "execution_count": 45,
   "id": "8f6ed20e-dc7d-400a-bbb9-4cd7cbc53284",
   "metadata": {},
   "outputs": [],
   "source": [
    "list =[2, 4, 6, 8, 10, 12, 14, 16, 18, 20]"
   ]
  },
  {
   "cell_type": "code",
   "execution_count": 47,
   "id": "26e983f9-1ebf-4d75-bd13-fca2e9013800",
   "metadata": {},
   "outputs": [],
   "source": [
    "l=iter(list)"
   ]
  },
  {
   "cell_type": "code",
   "execution_count": 48,
   "id": "78945673-1dad-44ed-bc6f-516a76b6d644",
   "metadata": {},
   "outputs": [
    {
     "data": {
      "text/plain": [
       "2"
      ]
     },
     "execution_count": 48,
     "metadata": {},
     "output_type": "execute_result"
    }
   ],
   "source": [
    "next(l)"
   ]
  },
  {
   "cell_type": "code",
   "execution_count": 49,
   "id": "0fbeeb7c-68b3-44e5-a0b4-876ad85429f5",
   "metadata": {},
   "outputs": [
    {
     "data": {
      "text/plain": [
       "4"
      ]
     },
     "execution_count": 49,
     "metadata": {},
     "output_type": "execute_result"
    }
   ],
   "source": [
    "next(l)"
   ]
  },
  {
   "cell_type": "code",
   "execution_count": 50,
   "id": "7f8031ab-7c52-49e4-8a6a-570b8de7ddf9",
   "metadata": {},
   "outputs": [
    {
     "data": {
      "text/plain": [
       "6"
      ]
     },
     "execution_count": 50,
     "metadata": {},
     "output_type": "execute_result"
    }
   ],
   "source": [
    "next(l)"
   ]
  },
  {
   "cell_type": "code",
   "execution_count": 51,
   "id": "4c398d7b-ab2e-4479-837e-9342e82bd0d8",
   "metadata": {},
   "outputs": [
    {
     "data": {
      "text/plain": [
       "8"
      ]
     },
     "execution_count": 51,
     "metadata": {},
     "output_type": "execute_result"
    }
   ],
   "source": [
    "next(l)"
   ]
  },
  {
   "cell_type": "code",
   "execution_count": 52,
   "id": "e0dddcdc-df7c-40c6-92fa-503f8153893b",
   "metadata": {},
   "outputs": [
    {
     "data": {
      "text/plain": [
       "10"
      ]
     },
     "execution_count": 52,
     "metadata": {},
     "output_type": "execute_result"
    }
   ],
   "source": [
    "next(l)"
   ]
  },
  {
   "cell_type": "markdown",
   "id": "1163ad07-c1d3-4d2c-b77e-6646bca3bb74",
   "metadata": {},
   "source": [
    "Q4. What is a generator function in python? Why yield keyword is used? Give an example of a generator\n",
    "function."
   ]
  },
  {
   "cell_type": "markdown",
   "id": "ca13baf0-fc92-4191-8265-c382fd5d136f",
   "metadata": {},
   "source": [
    "If you want to return multiple values from a function, you can use generator functions with yield keywords.\n",
    "\n",
    "The yield keyword is  controls the flow of a generator function."
   ]
  },
  {
   "cell_type": "code",
   "execution_count": 53,
   "id": "c8ffcd28-cd3e-417d-bdcc-1a387ea97b5d",
   "metadata": {},
   "outputs": [],
   "source": [
    "def gen(n):\n",
    "    a,b=0,1\n",
    "    for i in range(n):\n",
    "        yield a\n",
    "        a,b= b,a+b"
   ]
  },
  {
   "cell_type": "code",
   "execution_count": 54,
   "id": "11197155-d8d5-4d91-8978-b44d61d85ec9",
   "metadata": {},
   "outputs": [
    {
     "data": {
      "text/plain": [
       "<generator object gen at 0x7f862eb5b6f0>"
      ]
     },
     "execution_count": 54,
     "metadata": {},
     "output_type": "execute_result"
    }
   ],
   "source": [
    "gen(10)"
   ]
  },
  {
   "cell_type": "code",
   "execution_count": 56,
   "id": "039052a0-ba85-4fe2-8b3b-6745eeed4d89",
   "metadata": {},
   "outputs": [
    {
     "name": "stdout",
     "output_type": "stream",
     "text": [
      "0\n",
      "1\n",
      "1\n",
      "2\n",
      "3\n",
      "5\n",
      "8\n",
      "13\n",
      "21\n",
      "34\n"
     ]
    }
   ],
   "source": [
    "for i in gen(10):\n",
    "    print(i)"
   ]
  },
  {
   "cell_type": "markdown",
   "id": "e9929673-31cf-48ef-b7b2-b15376806968",
   "metadata": {},
   "source": [
    "Q5. Create a generator function for prime numbers less than 1000. Use the next() method to print the\n",
    "first 20 prime numbers."
   ]
  },
  {
   "cell_type": "code",
   "execution_count": 73,
   "id": "105f0c26-df06-44ea-9cb1-e5ab76277262",
   "metadata": {},
   "outputs": [
    {
     "name": "stdout",
     "output_type": "stream",
     "text": [
      "2\n",
      "3\n",
      "5\n",
      "7\n",
      "11\n",
      "13\n",
      "17\n",
      "19\n"
     ]
    }
   ],
   "source": [
    "def prime(n):\n",
    "    if n==1 or n==1:\n",
    "        return False\n",
    "    for i in range(2,n):\n",
    "        if n%i==0:\n",
    "            return False\n",
    "    return True \n",
    "\n",
    "\n",
    "n=20\n",
    "for i in range(1,n+1):\n",
    "    if prime(i):\n",
    "        print(i)"
   ]
  },
  {
   "cell_type": "markdown",
   "id": "7ad3dfaa-0176-4d9a-9a1b-7d20b4d292b9",
   "metadata": {},
   "source": [
    "Q6. Write a python program to print the first 10 Fibonacci numbers using a while loop."
   ]
  },
  {
   "cell_type": "code",
   "execution_count": 85,
   "id": "e4dd4270-c92b-4eeb-b85c-a2d7bb02868b",
   "metadata": {},
   "outputs": [],
   "source": [
    "def feb(n):\n",
    "    a,b=0,1\n",
    "    while True:\n",
    "        yield a\n",
    "        a,b=b,a+b"
   ]
  },
  {
   "cell_type": "code",
   "execution_count": 98,
   "id": "cfd3442f-fb9f-4a1e-852b-88b35d34bb2d",
   "metadata": {},
   "outputs": [],
   "source": [
    "f=iter(feb)"
   ]
  },
  {
   "cell_type": "code",
   "execution_count": 99,
   "id": "4fb3d66a-bd5c-441f-8cb7-fb969f3d114b",
   "metadata": {},
   "outputs": [
    {
     "name": "stdout",
     "output_type": "stream",
     "text": [
      "0\n",
      "1\n",
      "1\n",
      "2\n",
      "3\n",
      "5\n",
      "8\n",
      "13\n",
      "21\n",
      "34\n"
     ]
    }
   ],
   "source": [
    "for i in range(10):\n",
    "    print(next(feb))"
   ]
  },
  {
   "cell_type": "markdown",
   "id": "41cb869a-f6fb-42a4-84bd-a44b1fa515a1",
   "metadata": {},
   "source": [
    "Q7. Write a List Comprehension to iterate through the given string: ‘pwskills’.\n",
    "Expected output: ['p', 'w', 's', 'k', 'i', 'l', 'l', 's']"
   ]
  },
  {
   "cell_type": "code",
   "execution_count": 108,
   "id": "bddb355f-e344-4f87-87d6-1a5db319fd38",
   "metadata": {},
   "outputs": [],
   "source": [
    "s='pwskills'"
   ]
  },
  {
   "cell_type": "code",
   "execution_count": 117,
   "id": "3a020ae2-06e2-4b71-be6d-2e2602ba2f76",
   "metadata": {},
   "outputs": [
    {
     "name": "stdout",
     "output_type": "stream",
     "text": [
      "['p', 'w', 's', 'k', 'i', 'l', 'l', 's']\n"
     ]
    }
   ],
   "source": [
    "l=[i for i in s]\n",
    "print(l)"
   ]
  },
  {
   "cell_type": "markdown",
   "id": "80b4cdd2-1dc9-4023-a832-47b7cb07bea4",
   "metadata": {},
   "source": [
    "Q8. Write a python program to check whether a given number is Palindrome or not using a while loop."
   ]
  },
  {
   "cell_type": "code",
   "execution_count": 122,
   "id": "ee06b85a-32e1-491d-a335-f96c413f79b7",
   "metadata": {},
   "outputs": [
    {
     "name": "stdin",
     "output_type": "stream",
     "text": [
      "Enter a number: 676\n"
     ]
    },
    {
     "name": "stdout",
     "output_type": "stream",
     "text": [
      "The number is palindrome!\n"
     ]
    }
   ],
   "source": [
    "num=int(input(\"Enter a number:\"))\n",
    "temp=num\n",
    "rev=0\n",
    "while(num>0):\n",
    "    dig=num%10\n",
    "    rev=rev*10+dig\n",
    "    num=num//10\n",
    "if(temp==rev):\n",
    "    print(\"The number is palindrome!\")\n",
    "else:\n",
    "    print(\"Not a palindrome!\")"
   ]
  },
  {
   "cell_type": "markdown",
   "id": "2d75408a-557a-4cac-880e-5617e22f31ab",
   "metadata": {},
   "source": [
    "Q9. Write a code to print odd numbers from 1 to 100 using list comprehension."
   ]
  },
  {
   "cell_type": "code",
   "execution_count": null,
   "id": "443c7f99-ca49-4a03-99b2-8402e2e9694c",
   "metadata": {},
   "outputs": [],
   "source": []
  }
 ],
 "metadata": {
  "kernelspec": {
   "display_name": "Python 3 (ipykernel)",
   "language": "python",
   "name": "python3"
  },
  "language_info": {
   "codemirror_mode": {
    "name": "ipython",
    "version": 3
   },
   "file_extension": ".py",
   "mimetype": "text/x-python",
   "name": "python",
   "nbconvert_exporter": "python",
   "pygments_lexer": "ipython3",
   "version": "3.10.8"
  }
 },
 "nbformat": 4,
 "nbformat_minor": 5
}
